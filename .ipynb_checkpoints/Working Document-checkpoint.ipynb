{
 "cells": [
  {
   "cell_type": "code",
   "execution_count": 7,
   "id": "bf8a6663",
   "metadata": {},
   "outputs": [],
   "source": [
    "import pandas as pd\n",
    "import numpy as np\n",
    "import matplotlib.pyplot as plt\n",
    "import seaborn as sns\n",
    "import statsmodels.formula.api as smf\n",
    "import os"
   ]
  },
  {
   "cell_type": "markdown",
   "id": "b1b42de7",
   "metadata": {},
   "source": [
    "## Setting the Working Directory (READ BEFORE USE)\n",
    "\n",
    "To clean things up and not have 25 .csv files floating around in the main folder, I've added a subfolder aptly named \"Datasets.\" However, Python has to be told where to go to find those files, and the easiest way I know of for doing this with multiple people on different machines is as follows:"
   ]
  },
  {
   "cell_type": "markdown",
   "id": "52500927",
   "metadata": {},
   "source": [
    "- Run the `os.getcwd()` code cell below this one, it will return the current working directory\n",
    "- Create a new code cell below mine, and input the `os.chdir()` function\n",
    "- Within the `os.chdir` function call, copy paste the working directory returned earlier, and then add whatever the MacOS equivalent of `\\Datasets` is at the end, inside the quotes\n",
    "- Lastly, add an `r` inside the function call right before the first quote, like I have done, to mark the string as a raw string. Python interprets slashes in a way we don't want here, and by declaring a raw string, it ignores those interpretations\n",
    "- Run that cell, and then you should be good to read in all of the datasets and all the cleaning work I've done below that\n",
    "- One more thing, don't run other people's `os.chdir` calls or yours more than once, as Python will throw an error, and if there are any issues, let me know and I will find a fix"
   ]
  },
  {
   "cell_type": "code",
   "execution_count": 13,
   "id": "cd4247bf",
   "metadata": {},
   "outputs": [
    {
     "data": {
      "text/plain": [
       "'C:\\\\Users\\\\John Olsen\\\\OneDrive\\\\Documents\\\\GitHub\\\\STAT-303-2-Project\\\\Datasets'"
      ]
     },
     "execution_count": 13,
     "metadata": {},
     "output_type": "execute_result"
    }
   ],
   "source": [
    "os.getcwd()"
   ]
  },
  {
   "cell_type": "code",
   "execution_count": 12,
   "id": "bf515390",
   "metadata": {},
   "outputs": [],
   "source": [
    "os.chdir(r\"C:\\Users\\John Olsen\\OneDrive\\Documents\\GitHub\\STAT-303-2-Project\\Datasets\")"
   ]
  },
  {
   "cell_type": "markdown",
   "id": "cf0eebc5",
   "metadata": {},
   "source": [
    "## Reading in the Data"
   ]
  },
  {
   "cell_type": "code",
   "execution_count": 17,
   "id": "579df34a",
   "metadata": {},
   "outputs": [],
   "source": [
    "dashboard_2015 = pd.read_csv('2015 Dashboard.csv')\n",
    "batted_ball_2015 = pd.read_csv('2015 Batted Ball.csv')\n",
    "statcast_2015 = pd.read_csv('2015 Statcast.csv')\n",
    "dashboard_2016 = pd.read_csv('2016 Dashboard.csv')\n",
    "batted_ball_2016 = pd.read_csv('2016 Batted Ball.csv')\n",
    "statcast_2016 = pd.read_csv('2016 Statcast.csv')\n",
    "dashboard_2017 = pd.read_csv('2017 Dashboard.csv')\n",
    "batted_ball_2017 = pd.read_csv('2017 Batted Ball.csv')\n",
    "statcast_2017 = pd.read_csv('2017 Statcast.csv')\n",
    "dashboard_2018 = pd.read_csv('2018 Dashboard.csv')\n",
    "batted_ball_2018 = pd.read_csv('2018 Batted Ball.csv')\n",
    "statcast_2018 = pd.read_csv('2018 Statcast.csv')\n",
    "dashboard_2019 = pd.read_csv('2019 Dashboard.csv')\n",
    "batted_ball_2019 = pd.read_csv('2019 Batted Ball.csv')\n",
    "statcast_2019 = pd.read_csv('2019 Statcast.csv')\n",
    "dashboard_2020 = pd.read_csv('2020 Dashboard.csv')\n",
    "batted_ball_2020 = pd.read_csv('2020 Batted Ball.csv')\n",
    "statcast_2020 = pd.read_csv('2020 Statcast.csv')\n",
    "dashboard_2021 = pd.read_csv('2021 Dashboard.csv')\n",
    "batted_ball_2021 = pd.read_csv('2021 Batted Ball.csv')\n",
    "statcast_2021 = pd.read_csv('2021 Statcast.csv')\n",
    "dashboard_2022 = pd.read_csv('2022 Dashboard.csv')\n",
    "batted_ball_2022 = pd.read_csv('2022 Batted Ball.csv')\n",
    "statcast_2022 = pd.read_csv('2022 Statcast.csv')"
   ]
  },
  {
   "cell_type": "markdown",
   "id": "bf807c29",
   "metadata": {},
   "source": [
    "### Dealing with 2020"
   ]
  },
  {
   "cell_type": "markdown",
   "id": "f1ecec41",
   "metadata": {},
   "source": [
    "Due to the pandemic, there were only 60 regular season games in the 2020 MLB season, as opposed to 162 in a normal year. To work around this, I lowered the plate appearance threshold in 2020 to 70, which resulted in a similar-sized player pool (approximately 350) to the rest of the years, and for any \"counting stats,\" like Home Runs or Plate Apppearances or whatever, I will scale them up by an appropriate factor to make it seem like it was over a 162 game season. This does however not address the variance in home runs vs. predictive factors in a smaller sample of games (i.e. hitting 15 home runs in 60 games when the data suggests the expected HR total was 10 now becomes hitting 40 home runs with an expected total of like 25), but we're just going to have to live with it and hopefully that variance evens out across the player pool."
   ]
  },
  {
   "cell_type": "markdown",
   "id": "b18b0c20",
   "metadata": {},
   "source": [
    "## Cleaning the Data"
   ]
  },
  {
   "cell_type": "markdown",
   "id": "d3010db4",
   "metadata": {},
   "source": [
    "Covid Year, 70 AB"
   ]
  }
 ],
 "metadata": {
  "kernelspec": {
   "display_name": "Python 3 (ipykernel)",
   "language": "python",
   "name": "python3"
  },
  "language_info": {
   "codemirror_mode": {
    "name": "ipython",
    "version": 3
   },
   "file_extension": ".py",
   "mimetype": "text/x-python",
   "name": "python",
   "nbconvert_exporter": "python",
   "pygments_lexer": "ipython3",
   "version": "3.9.12"
  }
 },
 "nbformat": 4,
 "nbformat_minor": 5
}
