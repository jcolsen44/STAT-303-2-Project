{
 "cells": [
  {
   "cell_type": "code",
   "execution_count": 112,
   "id": "bf8a6663",
   "metadata": {},
   "outputs": [],
   "source": [
    "import pandas as pd\n",
    "import numpy as np\n",
    "import matplotlib.pyplot as plt\n",
    "import seaborn as sns\n",
    "import statsmodels.formula.api as smf"
   ]
  },
  {
   "cell_type": "markdown",
   "id": "cf0eebc5",
   "metadata": {},
   "source": [
    "## Reading in the Data"
   ]
  },
  {
   "cell_type": "code",
   "execution_count": 4,
   "id": "579df34a",
   "metadata": {},
   "outputs": [],
   "source": [
    "dashboard_2015 = pd.read_csv(r'.\\Datasets\\2015 Dashboard.csv')\n",
    "batted_ball_2015 = pd.read_csv(r'.\\Datasets\\2015 Batted Ball.csv')\n",
    "statcast_2015 = pd.read_csv(r'.\\Datasets\\2015 Statcast.csv')\n",
    "dashboard_2016 = pd.read_csv(r'.\\Datasets\\2016 Dashboard.csv')\n",
    "batted_ball_2016 = pd.read_csv(r'.\\Datasets\\2016 Batted Ball.csv')\n",
    "statcast_2016 = pd.read_csv(r'.\\Datasets\\2016 Statcast.csv')\n",
    "dashboard_2017 = pd.read_csv(r'.\\Datasets\\2017 Dashboard.csv')\n",
    "batted_ball_2017 = pd.read_csv(r'.\\Datasets\\2017 Batted Ball.csv')\n",
    "statcast_2017 = pd.read_csv(r'.\\Datasets\\2017 Statcast.csv')\n",
    "dashboard_2018 = pd.read_csv(r'.\\Datasets\\2018 Dashboard.csv')\n",
    "batted_ball_2018 = pd.read_csv(r'.\\Datasets\\2018 Batted Ball.csv')\n",
    "statcast_2018 = pd.read_csv(r'.\\Datasets\\2018 Statcast.csv')\n",
    "dashboard_2019 = pd.read_csv(r'.\\Datasets\\2019 Dashboard.csv')\n",
    "batted_ball_2019 = pd.read_csv(r'.\\Datasets\\2019 Batted Ball.csv')\n",
    "statcast_2019 = pd.read_csv(r'.\\Datasets\\2019 Statcast.csv')\n",
    "dashboard_2020 = pd.read_csv(r'.\\Datasets\\2020 Dashboard.csv')\n",
    "batted_ball_2020 = pd.read_csv(r'.\\Datasets\\2020 Batted Ball.csv')\n",
    "statcast_2020 = pd.read_csv(r'.\\Datasets\\2020 Statcast.csv')\n",
    "dashboard_2021 = pd.read_csv(r'.\\Datasets\\2021 Dashboard.csv')\n",
    "batted_ball_2021 = pd.read_csv(r'.\\Datasets\\2021 Batted Ball.csv')\n",
    "statcast_2021 = pd.read_csv(r'.\\Datasets\\2021 Statcast.csv')\n",
    "dashboard_2022 = pd.read_csv(r'.\\Datasets\\2022 Dashboard.csv')\n",
    "batted_ball_2022 = pd.read_csv(r'.\\Datasets\\2022 Batted Ball.csv')\n",
    "statcast_2022 = pd.read_csv(r'.\\Datasets\\2022 Statcast.csv')"
   ]
  },
  {
   "cell_type": "markdown",
   "id": "bf807c29",
   "metadata": {},
   "source": [
    "### Dealing with 2020"
   ]
  },
  {
   "cell_type": "markdown",
   "id": "f1ecec41",
   "metadata": {},
   "source": [
    "Due to the pandemic, there were only 60 regular season games in the 2020 MLB season, as opposed to 162 in a normal year. To work around this, I lowered the plate appearance threshold in 2020 to 70, which resulted in a similar-sized player pool (approximately 350) to the rest of the years, and for any \"counting stats,\" like Home Runs or Plate Apppearances or whatever, I will scale them up by an appropriate factor to make it seem like it was over a 162 game season. This does however not address the variance in home runs vs. predictive factors in a smaller sample of games (i.e. hitting 15 home runs in 60 games when the data suggests the expected HR total was 10 now becomes hitting 40 home runs with an expected total of like 25), but we're just going to have to live with it and hopefully that variance evens out across the player pool."
   ]
  },
  {
   "cell_type": "markdown",
   "id": "b18b0c20",
   "metadata": {},
   "source": [
    "## Cleaning the Data"
   ]
  },
  {
   "cell_type": "markdown",
   "id": "74b9991d",
   "metadata": {},
   "source": [
    "- Combine yearly frames by player\n",
    "- Add a year column\n",
    "- Add following season HR total to the frames\n",
    "- Filter out players with a missing value in the HR total\n",
    "- Subset variables that could be useful\n",
    "- Divide yearly frames into 80% train and 20% test using random functions with a set seed\n",
    "- Combine the yearly train frames into an overall train set and same for test\n",
    "- Format percentages"
   ]
  },
  {
   "cell_type": "markdown",
   "id": "a97cfffd",
   "metadata": {},
   "source": [
    "- 'Name'\n",
    "- 'G'\n",
    "- 'PA'\n",
    "- 'HR'\n",
    "- 'BB%'\n",
    "- 'K%'\n",
    "- 'playerid'"
   ]
  },
  {
   "cell_type": "markdown",
   "id": "de6dc380",
   "metadata": {},
   "source": [
    "- 'Name'\n",
    "- 'EV', average exit velocity\n",
    "- 'maxEV', max exit velocity\n",
    "- 'LA', launch angle\n",
    "- 'Barrel%', percentage of batted ball events that historically have resulted in a BA of at least .500\n",
    "- 'HardHit%', batted balls with 95+ mph/batted balls\n",
    "- 'playerid'"
   ]
  },
  {
   "cell_type": "markdown",
   "id": "6c5f904c",
   "metadata": {},
   "source": [
    "- 'Name'\n",
    "- 'LD%', line drives/balls in play\n",
    "- 'GB%', ground balls/balls in play\n",
    "- 'FB%', fly balls/balls in play\n",
    "- 'IFFB%', infield flies/fly balls\n",
    "- 'HR/FB', home runs/fly balls\n",
    "- 'Pull%'\n",
    "- 'Cent%'\n",
    "- 'Oppo%'\n",
    "- 'playerid'"
   ]
  },
  {
   "cell_type": "code",
   "execution_count": 35,
   "id": "c361bfe9",
   "metadata": {},
   "outputs": [
    {
     "data": {
      "text/plain": [
       "(271, 22)"
      ]
     },
     "execution_count": 35,
     "metadata": {},
     "output_type": "execute_result"
    }
   ],
   "source": [
    "dashboard_2015_merge = dashboard_2015.loc[:, ['Name', 'G', 'PA', 'HR', 'BB%', 'K%', 'playerid']]\n",
    "batted_ball_2015_merge = batted_ball_2015.loc[:, ['LD%', 'GB%', 'FB%', 'IFFB%', 'HR/FB', 'Pull%', 'Cent%', 'Oppo%', 'playerid']]\n",
    "statcast_2015_merge = statcast_2015.loc[:, ['EV', 'maxEV', 'LA', 'Barrel%', 'HardHit%', 'playerid']]\n",
    "\n",
    "temp_frame_2015 = pd.merge(dashboard_2015_merge, batted_ball_2015_merge, on = 'playerid')\n",
    "temp_frame_2015_2 = pd.merge(temp_frame_2015, statcast_2015_merge, on = 'playerid')\n",
    "\n",
    "temp_frame_2015_2['Year'] = 2015\n",
    "\n",
    "next_season_hr_2015 = dashboard_2016.loc[:, ['HR', 'playerid']]\n",
    "next_season_hr_2015 = next_season_hr_2015.rename(columns = {'HR':'Next Year HR'})\n",
    "\n",
    "frame_2015 = pd.merge(temp_frame_2015_2, next_season_hr_2015, on = 'playerid')\n",
    "\n",
    "frame_2015.shape"
   ]
  },
  {
   "cell_type": "code",
   "execution_count": 50,
   "id": "5c65f9a7",
   "metadata": {},
   "outputs": [
    {
     "data": {
      "text/plain": [
       "216.8"
      ]
     },
     "execution_count": 50,
     "metadata": {},
     "output_type": "execute_result"
    }
   ],
   "source": [
    "271 * 0.8"
   ]
  },
  {
   "cell_type": "code",
   "execution_count": 70,
   "id": "77c60257",
   "metadata": {},
   "outputs": [],
   "source": [
    "train_2015 = frame_2015.sample(n = 217, random_state = 1)\n",
    "temp_df = frame_2015.merge(train_2015.drop_duplicates(), on = ['Name', 'G', 'PA', 'HR', 'BB%', 'K%', 'playerid', 'LD%', 'GB%', 'FB%',\n",
    "       'IFFB%', 'HR/FB', 'Pull%', 'Cent%', 'Oppo%', 'EV', 'maxEV', 'LA',\n",
    "       'Barrel%', 'HardHit%', 'Year', 'Next Year HR'], how = 'left', indicator = True)\n",
    "test_2015 = temp_df.loc[temp_df['_merge'] == 'left_only', :]\n",
    "test_2015 = test_2015.drop('_merge', axis = 1)"
   ]
  },
  {
   "cell_type": "code",
   "execution_count": 36,
   "id": "b74fdf9f",
   "metadata": {},
   "outputs": [
    {
     "data": {
      "text/plain": [
       "(261, 22)"
      ]
     },
     "execution_count": 36,
     "metadata": {},
     "output_type": "execute_result"
    }
   ],
   "source": [
    "dashboard_2016_merge = dashboard_2016.loc[:, ['Name', 'G', 'PA', 'HR', 'BB%', 'K%', 'playerid']]\n",
    "batted_ball_2016_merge = batted_ball_2016.loc[:, ['LD%', 'GB%', 'FB%', 'IFFB%', 'HR/FB', 'Pull%', 'Cent%', 'Oppo%', 'playerid']]\n",
    "statcast_2016_merge = statcast_2016.loc[:, ['EV', 'maxEV', 'LA', 'Barrel%', 'HardHit%', 'playerid']]\n",
    "\n",
    "temp_frame_2016 = pd.merge(dashboard_2016_merge, batted_ball_2016_merge, on = 'playerid')\n",
    "temp_frame_2016_2 = pd.merge(temp_frame_2016, statcast_2016_merge, on = 'playerid')\n",
    "\n",
    "temp_frame_2016_2['Year'] = 2016\n",
    "\n",
    "next_season_hr_2016 = dashboard_2017.loc[:, ['HR', 'playerid']]\n",
    "next_season_hr_2016 = next_season_hr_2016.rename(columns = {'HR':'Next Year HR'})\n",
    "\n",
    "frame_2016 = pd.merge(temp_frame_2016_2, next_season_hr_2016, on = 'playerid')\n",
    "\n",
    "frame_2016.shape"
   ]
  },
  {
   "cell_type": "code",
   "execution_count": 60,
   "id": "9153acef",
   "metadata": {},
   "outputs": [
    {
     "data": {
      "text/plain": [
       "208.8"
      ]
     },
     "execution_count": 60,
     "metadata": {},
     "output_type": "execute_result"
    }
   ],
   "source": [
    "261 * 0.8"
   ]
  },
  {
   "cell_type": "code",
   "execution_count": 69,
   "id": "df7410ed",
   "metadata": {},
   "outputs": [],
   "source": [
    "train_2016 = frame_2016.sample(n = 219, random_state = 1)\n",
    "temp_df = frame_2016.merge(train_2016.drop_duplicates(), on = ['Name', 'G', 'PA', 'HR', 'BB%', 'K%', 'playerid', 'LD%', 'GB%', 'FB%',\n",
    "       'IFFB%', 'HR/FB', 'Pull%', 'Cent%', 'Oppo%', 'EV', 'maxEV', 'LA',\n",
    "       'Barrel%', 'HardHit%', 'Year', 'Next Year HR'], how = 'left', indicator = True)\n",
    "test_2016 = temp_df.loc[temp_df['_merge'] == 'left_only', :]\n",
    "test_2016 = test_2016.drop('_merge', axis = 1)"
   ]
  },
  {
   "cell_type": "code",
   "execution_count": 37,
   "id": "185f555a",
   "metadata": {},
   "outputs": [
    {
     "data": {
      "text/plain": [
       "(277, 22)"
      ]
     },
     "execution_count": 37,
     "metadata": {},
     "output_type": "execute_result"
    }
   ],
   "source": [
    "dashboard_2017_merge = dashboard_2017.loc[:, ['Name', 'G', 'PA', 'HR', 'BB%', 'K%', 'playerid']]\n",
    "batted_ball_2017_merge = batted_ball_2017.loc[:, ['LD%', 'GB%', 'FB%', 'IFFB%', 'HR/FB', 'Pull%', 'Cent%', 'Oppo%', 'playerid']]\n",
    "statcast_2017_merge = statcast_2017.loc[:, ['EV', 'maxEV', 'LA', 'Barrel%', 'HardHit%', 'playerid']]\n",
    "\n",
    "temp_frame_2017 = pd.merge(dashboard_2017_merge, batted_ball_2017_merge, on = 'playerid')\n",
    "temp_frame_2017_2 = pd.merge(temp_frame_2017, statcast_2017_merge, on = 'playerid')\n",
    "\n",
    "temp_frame_2017_2['Year'] = 2017\n",
    "\n",
    "next_season_hr_2017 = dashboard_2018.loc[:, ['HR', 'playerid']]\n",
    "next_season_hr_2017 = next_season_hr_2017.rename(columns = {'HR':'Next Year HR'})\n",
    "\n",
    "frame_2017 = pd.merge(temp_frame_2017_2, next_season_hr_2017, on = 'playerid')\n",
    "\n",
    "frame_2017.shape"
   ]
  },
  {
   "cell_type": "code",
   "execution_count": 64,
   "id": "9483b3e1",
   "metadata": {},
   "outputs": [
    {
     "data": {
      "text/plain": [
       "221.60000000000002"
      ]
     },
     "execution_count": 64,
     "metadata": {},
     "output_type": "execute_result"
    }
   ],
   "source": [
    "277 * 0.8"
   ]
  },
  {
   "cell_type": "code",
   "execution_count": 71,
   "id": "c10f964b",
   "metadata": {},
   "outputs": [],
   "source": [
    "train_2017 = frame_2017.sample(n = 222, random_state = 1)\n",
    "temp_df = frame_2017.merge(train_2017.drop_duplicates(), on = ['Name', 'G', 'PA', 'HR', 'BB%', 'K%', 'playerid', 'LD%', 'GB%', 'FB%',\n",
    "       'IFFB%', 'HR/FB', 'Pull%', 'Cent%', 'Oppo%', 'EV', 'maxEV', 'LA',\n",
    "       'Barrel%', 'HardHit%', 'Year', 'Next Year HR'], how = 'left', indicator = True)\n",
    "test_2017 = temp_df.loc[temp_df['_merge'] == 'left_only', :]\n",
    "test_2017 = test_2017.drop('_merge', axis = 1)"
   ]
  },
  {
   "cell_type": "code",
   "execution_count": 38,
   "id": "2a7e99b7",
   "metadata": {},
   "outputs": [
    {
     "data": {
      "text/plain": [
       "(262, 22)"
      ]
     },
     "execution_count": 38,
     "metadata": {},
     "output_type": "execute_result"
    }
   ],
   "source": [
    "dashboard_2018_merge = dashboard_2018.loc[:, ['Name', 'G', 'PA', 'HR', 'BB%', 'K%', 'playerid']]\n",
    "batted_ball_2018_merge = batted_ball_2018.loc[:, ['LD%', 'GB%', 'FB%', 'IFFB%', 'HR/FB', 'Pull%', 'Cent%', 'Oppo%', 'playerid']]\n",
    "statcast_2018_merge = statcast_2018.loc[:, ['EV', 'maxEV', 'LA', 'Barrel%', 'HardHit%', 'playerid']]\n",
    "\n",
    "temp_frame_2018 = pd.merge(dashboard_2018_merge, batted_ball_2018_merge, on = 'playerid')\n",
    "temp_frame_2018_2 = pd.merge(temp_frame_2018, statcast_2018_merge, on = 'playerid')\n",
    "\n",
    "temp_frame_2018_2['Year'] = 2018\n",
    "\n",
    "next_season_hr_2018 = dashboard_2019.loc[:, ['HR', 'playerid']]\n",
    "next_season_hr_2018 = next_season_hr_2018.rename(columns = {'HR':'Next Year HR'})\n",
    "\n",
    "frame_2018 = pd.merge(temp_frame_2018_2, next_season_hr_2018, on = 'playerid')\n",
    "\n",
    "frame_2018.shape"
   ]
  },
  {
   "cell_type": "code",
   "execution_count": 66,
   "id": "9b61cf30",
   "metadata": {},
   "outputs": [
    {
     "data": {
      "text/plain": [
       "209.60000000000002"
      ]
     },
     "execution_count": 66,
     "metadata": {},
     "output_type": "execute_result"
    }
   ],
   "source": [
    "262 * 0.8"
   ]
  },
  {
   "cell_type": "code",
   "execution_count": 72,
   "id": "72032712",
   "metadata": {},
   "outputs": [],
   "source": [
    "train_2018 = frame_2018.sample(n = 210, random_state = 1)\n",
    "temp_df = frame_2018.merge(train_2018.drop_duplicates(), on = ['Name', 'G', 'PA', 'HR', 'BB%', 'K%', 'playerid', 'LD%', 'GB%', 'FB%',\n",
    "       'IFFB%', 'HR/FB', 'Pull%', 'Cent%', 'Oppo%', 'EV', 'maxEV', 'LA',\n",
    "       'Barrel%', 'HardHit%', 'Year', 'Next Year HR'], how = 'left', indicator = True)\n",
    "test_2018 = temp_df.loc[temp_df['_merge'] == 'left_only', :]\n",
    "test_2018 = test_2018.drop('_merge', axis = 1)"
   ]
  },
  {
   "cell_type": "code",
   "execution_count": 43,
   "id": "55a7f971",
   "metadata": {},
   "outputs": [
    {
     "data": {
      "text/plain": [
       "(282, 22)"
      ]
     },
     "execution_count": 43,
     "metadata": {},
     "output_type": "execute_result"
    }
   ],
   "source": [
    "dashboard_2019_merge = dashboard_2019.loc[:, ['Name', 'G', 'PA', 'HR', 'BB%', 'K%', 'playerid']]\n",
    "batted_ball_2019_merge = batted_ball_2019.loc[:, ['LD%', 'GB%', 'FB%', 'IFFB%', 'HR/FB', 'Pull%', 'Cent%', 'Oppo%', 'playerid']]\n",
    "statcast_2019_merge = statcast_2019.loc[:, ['EV', 'maxEV', 'LA', 'Barrel%', 'HardHit%', 'playerid']]\n",
    "\n",
    "temp_frame_2019 = pd.merge(dashboard_2019_merge, batted_ball_2019_merge, on = 'playerid')\n",
    "temp_frame_2019_2 = pd.merge(temp_frame_2019, statcast_2019_merge, on = 'playerid')\n",
    "\n",
    "temp_frame_2019_2['Year'] = 2019\n",
    "\n",
    "next_season_hr_2019 = dashboard_2020.loc[:, ['HR', 'playerid']]\n",
    "next_season_hr_2019['HR'] = next_season_hr_2019['HR'].apply(lambda x: int((162/60)*x))\n",
    "next_season_hr_2019 = next_season_hr_2019.rename(columns = {'HR':'Next Year HR'})\n",
    "\n",
    "frame_2019 = pd.merge(temp_frame_2019_2, next_season_hr_2019, on = 'playerid')\n",
    "\n",
    "frame_2019.shape"
   ]
  },
  {
   "cell_type": "code",
   "execution_count": 73,
   "id": "ea8dab12",
   "metadata": {},
   "outputs": [
    {
     "data": {
      "text/plain": [
       "225.60000000000002"
      ]
     },
     "execution_count": 73,
     "metadata": {},
     "output_type": "execute_result"
    }
   ],
   "source": [
    "282 * 0.8"
   ]
  },
  {
   "cell_type": "code",
   "execution_count": 74,
   "id": "65fa510d",
   "metadata": {},
   "outputs": [],
   "source": [
    "train_2019 = frame_2019.sample(n = 226, random_state = 1)\n",
    "temp_df = frame_2019.merge(train_2019.drop_duplicates(), on = ['Name', 'G', 'PA', 'HR', 'BB%', 'K%', 'playerid', 'LD%', 'GB%', 'FB%',\n",
    "       'IFFB%', 'HR/FB', 'Pull%', 'Cent%', 'Oppo%', 'EV', 'maxEV', 'LA',\n",
    "       'Barrel%', 'HardHit%', 'Year', 'Next Year HR'], how = 'left', indicator = True)\n",
    "test_2019 = temp_df.loc[temp_df['_merge'] == 'left_only', :]\n",
    "test_2019 = test_2019.drop('_merge', axis = 1)"
   ]
  },
  {
   "cell_type": "code",
   "execution_count": 44,
   "id": "8044ab55",
   "metadata": {},
   "outputs": [
    {
     "data": {
      "text/plain": [
       "(271, 22)"
      ]
     },
     "execution_count": 44,
     "metadata": {},
     "output_type": "execute_result"
    }
   ],
   "source": [
    "dashboard_2020_merge = dashboard_2020.loc[:, ['Name', 'G', 'PA', 'HR', 'BB%', 'K%', 'playerid']]\n",
    "dashboard_2020_merge['G'] = dashboard_2020_merge['G'].apply(lambda x: int((162/60) * x))\n",
    "dashboard_2020_merge['PA'] = dashboard_2020_merge['PA'].apply(lambda x: int((162/60) * x))\n",
    "dashboard_2020_merge['HR'] = dashboard_2020_merge['HR'].apply(lambda x: int((162/60) * x))\n",
    "batted_ball_2020_merge = batted_ball_2020.loc[:, ['LD%', 'GB%', 'FB%', 'IFFB%', 'HR/FB', 'Pull%', 'Cent%', 'Oppo%', 'playerid']]\n",
    "statcast_2020_merge = statcast_2020.loc[:, ['EV', 'maxEV', 'LA', 'Barrel%', 'HardHit%', 'playerid']]\n",
    "\n",
    "temp_frame_2020 = pd.merge(dashboard_2020_merge, batted_ball_2020_merge, on = 'playerid')\n",
    "temp_frame_2020_2 = pd.merge(temp_frame_2020, statcast_2020_merge, on = 'playerid')\n",
    "\n",
    "temp_frame_2020_2['Year'] = 2020\n",
    "\n",
    "next_season_hr_2020 = dashboard_2021.loc[:, ['HR', 'playerid']]\n",
    "next_season_hr_2020 = next_season_hr_2020.rename(columns = {'HR':'Next Year HR'})\n",
    "\n",
    "frame_2020 = pd.merge(temp_frame_2020_2, next_season_hr_2020, on = 'playerid')\n",
    "\n",
    "frame_2020.shape"
   ]
  },
  {
   "cell_type": "code",
   "execution_count": 75,
   "id": "3a41bcf6",
   "metadata": {},
   "outputs": [
    {
     "data": {
      "text/plain": [
       "216.8"
      ]
     },
     "execution_count": 75,
     "metadata": {},
     "output_type": "execute_result"
    }
   ],
   "source": [
    "271 * 0.8"
   ]
  },
  {
   "cell_type": "code",
   "execution_count": 76,
   "id": "c3cfa5d1",
   "metadata": {},
   "outputs": [],
   "source": [
    "train_2020 = frame_2020.sample(n = 217, random_state = 1)\n",
    "temp_df = frame_2020.merge(train_2020.drop_duplicates(), on = ['Name', 'G', 'PA', 'HR', 'BB%', 'K%', 'playerid', 'LD%', 'GB%', 'FB%',\n",
    "       'IFFB%', 'HR/FB', 'Pull%', 'Cent%', 'Oppo%', 'EV', 'maxEV', 'LA',\n",
    "       'Barrel%', 'HardHit%', 'Year', 'Next Year HR'], how = 'left', indicator = True)\n",
    "test_2020 = temp_df.loc[temp_df['_merge'] == 'left_only', :]\n",
    "test_2020 = test_2020.drop('_merge', axis = 1)"
   ]
  },
  {
   "cell_type": "code",
   "execution_count": 46,
   "id": "975e532d",
   "metadata": {},
   "outputs": [
    {
     "data": {
      "text/plain": [
       "(267, 22)"
      ]
     },
     "execution_count": 46,
     "metadata": {},
     "output_type": "execute_result"
    }
   ],
   "source": [
    "dashboard_2021_merge = dashboard_2021.loc[:, ['Name', 'G', 'PA', 'HR', 'BB%', 'K%', 'playerid']]\n",
    "batted_ball_2021_merge = batted_ball_2021.loc[:, ['LD%', 'GB%', 'FB%', 'IFFB%', 'HR/FB', 'Pull%', 'Cent%', 'Oppo%', 'playerid']]\n",
    "statcast_2021_merge = statcast_2021.loc[:, ['EV', 'maxEV', 'LA', 'Barrel%', 'HardHit%', 'playerid']]\n",
    "\n",
    "temp_frame_2021 = pd.merge(dashboard_2021_merge, batted_ball_2021_merge, on = 'playerid')\n",
    "temp_frame_2021_2 = pd.merge(temp_frame_2021, statcast_2021_merge, on = 'playerid')\n",
    "\n",
    "temp_frame_2021_2['Year'] = 2021\n",
    "\n",
    "next_season_hr_2021 = dashboard_2022.loc[:, ['HR', 'playerid']]\n",
    "next_season_hr_2021 = next_season_hr_2021.rename(columns = {'HR':'Next Year HR'})\n",
    "\n",
    "frame_2021 = pd.merge(temp_frame_2021_2, next_season_hr_2021, on = 'playerid')\n",
    "\n",
    "frame_2021.shape"
   ]
  },
  {
   "cell_type": "code",
   "execution_count": 77,
   "id": "d08568c5",
   "metadata": {},
   "outputs": [
    {
     "data": {
      "text/plain": [
       "213.60000000000002"
      ]
     },
     "execution_count": 77,
     "metadata": {},
     "output_type": "execute_result"
    }
   ],
   "source": [
    "267 * 0.8"
   ]
  },
  {
   "cell_type": "code",
   "execution_count": 78,
   "id": "699cb449",
   "metadata": {},
   "outputs": [],
   "source": [
    "train_2021 = frame_2021.sample(n = 214, random_state = 1)\n",
    "temp_df = frame_2021.merge(train_2021.drop_duplicates(), on = ['Name', 'G', 'PA', 'HR', 'BB%', 'K%', 'playerid', 'LD%', 'GB%', 'FB%',\n",
    "       'IFFB%', 'HR/FB', 'Pull%', 'Cent%', 'Oppo%', 'EV', 'maxEV', 'LA',\n",
    "       'Barrel%', 'HardHit%', 'Year', 'Next Year HR'], how = 'left', indicator = True)\n",
    "test_2021 = temp_df.loc[temp_df['_merge'] == 'left_only', :]\n",
    "test_2021 = test_2021.drop('_merge', axis = 1)"
   ]
  },
  {
   "cell_type": "code",
   "execution_count": 82,
   "id": "328dff19",
   "metadata": {},
   "outputs": [],
   "source": [
    "train = pd.concat([train_2015, train_2016, train_2017, train_2018, train_2019, train_2020, train_2021])"
   ]
  },
  {
   "cell_type": "code",
   "execution_count": 106,
   "id": "6105c613",
   "metadata": {},
   "outputs": [],
   "source": [
    "test = pd.concat([test_2015, test_2016, test_2017, test_2018, test_2019, test_2020, test_2021])"
   ]
  },
  {
   "cell_type": "code",
   "execution_count": 103,
   "id": "f47a4e63",
   "metadata": {},
   "outputs": [],
   "source": [
    "def remove_percentage_sign(variable):\n",
    "    if variable.dtypes == 'O':\n",
    "        variable = variable.str.replace('%', '')\n",
    "        variable = pd.to_numeric(variable, errors = 'coerce')\n",
    "    return variable"
   ]
  },
  {
   "cell_type": "code",
   "execution_count": 111,
   "id": "d4b9b058",
   "metadata": {},
   "outputs": [],
   "source": [
    "train.loc[:, 'G':] = train.loc[:, 'G':].apply(remove_percentage_sign)"
   ]
  },
  {
   "cell_type": "code",
   "execution_count": 108,
   "id": "e9a1429f",
   "metadata": {},
   "outputs": [],
   "source": [
    "test.loc[:, 'G':] = test.loc[:, 'G':].apply(remove_percentage_sign)"
   ]
  },
  {
   "cell_type": "markdown",
   "id": "b8743fb8",
   "metadata": {},
   "source": [
    "## Notes on Cleaning"
   ]
  },
  {
   "cell_type": "markdown",
   "id": "eacfa56f",
   "metadata": {},
   "source": [
    "`train` and `test` datasets have been created using 80% and 20% of the observations from 2015-2021 respectively, just run all of the code above and it should work.\n",
    "\n",
    "I will add variable descriptions later."
   ]
  },
  {
   "cell_type": "markdown",
   "id": "e713b355",
   "metadata": {},
   "source": [
    "# Building the Model"
   ]
  }
 ],
 "metadata": {
  "kernelspec": {
   "display_name": "Python 3 (ipykernel)",
   "language": "python",
   "name": "python3"
  },
  "language_info": {
   "codemirror_mode": {
    "name": "ipython",
    "version": 3
   },
   "file_extension": ".py",
   "mimetype": "text/x-python",
   "name": "python",
   "nbconvert_exporter": "python",
   "pygments_lexer": "ipython3",
   "version": "3.9.12"
  }
 },
 "nbformat": 4,
 "nbformat_minor": 5
}
